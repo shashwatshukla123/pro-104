{
  "nbformat": 4,
  "nbformat_minor": 0,
  "metadata": {
    "colab": {
      "name": "pro-104.ipynb",
      "provenance": [],
      "authorship_tag": "ABX9TyP5jsnm7mEYXUfunYEd31oO",
      "include_colab_link": true
    },
    "kernelspec": {
      "name": "python3",
      "display_name": "Python 3"
    },
    "language_info": {
      "name": "python"
    }
  },
  "cells": [
    {
      "cell_type": "markdown",
      "metadata": {
        "id": "view-in-github",
        "colab_type": "text"
      },
      "source": [
        "<a href=\"https://colab.research.google.com/github/shashwatshukla123/pro-104/blob/main/pro_104.ipynb\" target=\"_parent\"><img src=\"https://colab.research.google.com/assets/colab-badge.svg\" alt=\"Open In Colab\"/></a>"
      ]
    },
    {
      "cell_type": "code",
      "metadata": {
        "id": "XQexYIkbz8jr"
      },
      "source": [
        "from collections import Counter\n",
        "import csv"
      ],
      "execution_count": null,
      "outputs": []
    },
    {
      "cell_type": "code",
      "metadata": {
        "id": "72ue1Ck90tSH"
      },
      "source": [
        "def get_mean(total_weight, total_entries):\n",
        "    #Calculating Mean\n",
        "    mean = total_weight / total_entries\n",
        "    print(f\"Mean (Average) is -> {mean:2f}\")"
      ],
      "execution_count": null,
      "outputs": []
    },
    {
      "cell_type": "code",
      "metadata": {
        "id": "ftZWeIep0wYt"
      },
      "source": [
        "def get_median(total_entries, sorted_data):\n",
        "    #Calculating Median\n",
        "    if total_entries % 2 == 0:\n",
        "        median1 = float(sorted_data[total_entries//2])\n",
        "        median2 = float(sorted_data[total_entries//2 - 1])\n",
        "        median = (median1 + median2) / 2\n",
        "    else:\n",
        "        median = float(sorted_data[total_entries//2])\n",
        "    print(f\"Median is -> {median:2f}\")"
      ],
      "execution_count": null,
      "outputs": []
    },
    {
      "cell_type": "code",
      "metadata": {
        "id": "Gu0CpTG40zeV"
      },
      "source": [
        "def get_mode(sorted_data):\n",
        "    #Calculating Mode\n",
        "    data = Counter(sorted_data)\n",
        "    mode_data_for_range = {\n",
        "                            \"75-85\": 0,\n",
        "                            \"85-95\": 0,\n",
        "                            \"95-105\": 0,\n",
        "                            \"105-115\": 0,\n",
        "                            \"115-125\": 0,\n",
        "                            \"125-135\": 0,\n",
        "                            \"135-145\": 0,\n",
        "                            \"145-155\": 0,\n",
        "                            \"155-165\": 0,\n",
        "                            \"165-175\": 0\n",
        "                        }\n",
        "    for weight, occurence in data.items():\n",
        "        if 75 < weight < 85:\n",
        "            mode_data_for_range[\"75-85\"] += occurence\n",
        "        elif 85 < weight < 95:\n",
        "            mode_data_for_range[\"85-95\"] += occurence\n",
        "        elif 95 < weight < 105:\n",
        "            mode_data_for_range[\"95-105\"] += occurence\n",
        "        elif 105 < weight < 115:\n",
        "            mode_data_for_range[\"105-115\"] += occurence\n",
        "        elif 115 < weight < 125:\n",
        "            mode_data_for_range[\"115-125\"] += occurence\n",
        "        elif 125 < weight < 135:\n",
        "            mode_data_for_range[\"125-135\"] += occurence\n",
        "        elif 135 < weight < 145:\n",
        "            mode_data_for_range[\"135-145\"] += occurence\n",
        "        elif 145 < weight < 155:\n",
        "            mode_data_for_range[\"145-155\"] += occurence\n",
        "        elif 155 < weight < 165:\n",
        "            mode_data_for_range[\"155-165\"] += occurence\n",
        "        elif 165 < weight < 175:\n",
        "            mode_data_for_range[\"165-175\"] += occurence\n",
        "    mode_range, mode_occurence = 0, 0\n",
        "    for range, occurence in mode_data_for_range.items():\n",
        "        if occurence > mode_occurence:\n",
        "            mode_range, mode_occurence = [int(range.split(\"-\")[0]), int(range.split(\"-\")[1])], occurence\n",
        "    mode = float((mode_range[0] + mode_range[1]) / 2)\n",
        "    print(f\"Mode is -> {mode:2f}\")"
      ],
      "execution_count": null,
      "outputs": []
    },
    {
      "cell_type": "code",
      "metadata": {
        "id": "TuSGzWTu04pt"
      },
      "source": [
        "with open('data.csv', newline='') as f:\n",
        "    reader = csv.reader(f)\n",
        "    file_data = list(reader)"
      ],
      "execution_count": null,
      "outputs": []
    },
    {
      "cell_type": "code",
      "metadata": {
        "id": "6Ws_prM50761",
        "colab": {
          "base_uri": "https://localhost:8080/",
          "height": 231
        },
        "outputId": "8540215a-01d1-4e3a-e946-cafe54358d71"
      },
      "source": [
        "#To remove headers from CSV\n",
        "file_data.pop(0)\n",
        "\n",
        "total_weight = 0\n",
        "total_entries = len(file_data)\n",
        "sorted_data = []\n",
        "\n",
        "for person_data in file_data:\n",
        "    total_weight += float(person_data[2])\n",
        "    sorted_data.append(float(person_data[2]))\n",
        "\n",
        "sorted_data.sort()\n",
        "\n",
        "get_mean(total_weight, total_entries)\n",
        "get_median(total_entries, sorted_data)\n",
        "get_mode(sorted_data)"
      ],
      "execution_count": 13,
      "outputs": [
        {
          "output_type": "error",
          "ename": "ValueError",
          "evalue": "ignored",
          "traceback": [
            "\u001b[0;31m---------------------------------------------------------------------------\u001b[0m",
            "\u001b[0;31mValueError\u001b[0m                                Traceback (most recent call last)",
            "\u001b[0;32m<ipython-input-13-3c189d9ac534>\u001b[0m in \u001b[0;36m<module>\u001b[0;34m()\u001b[0m\n\u001b[1;32m      7\u001b[0m \u001b[0;34m\u001b[0m\u001b[0m\n\u001b[1;32m      8\u001b[0m \u001b[0;32mfor\u001b[0m \u001b[0mperson_data\u001b[0m \u001b[0;32min\u001b[0m \u001b[0mfile_data\u001b[0m\u001b[0;34m:\u001b[0m\u001b[0;34m\u001b[0m\u001b[0;34m\u001b[0m\u001b[0m\n\u001b[0;32m----> 9\u001b[0;31m     \u001b[0mtotal_weight\u001b[0m \u001b[0;34m+=\u001b[0m \u001b[0mfloat\u001b[0m\u001b[0;34m(\u001b[0m\u001b[0mperson_data\u001b[0m\u001b[0;34m[\u001b[0m\u001b[0;36m2\u001b[0m\u001b[0;34m]\u001b[0m\u001b[0;34m)\u001b[0m\u001b[0;34m\u001b[0m\u001b[0;34m\u001b[0m\u001b[0m\n\u001b[0m\u001b[1;32m     10\u001b[0m     \u001b[0msorted_data\u001b[0m\u001b[0;34m.\u001b[0m\u001b[0mappend\u001b[0m\u001b[0;34m(\u001b[0m\u001b[0mfloat\u001b[0m\u001b[0;34m(\u001b[0m\u001b[0mperson_data\u001b[0m\u001b[0;34m[\u001b[0m\u001b[0;36m2\u001b[0m\u001b[0;34m]\u001b[0m\u001b[0;34m)\u001b[0m\u001b[0;34m)\u001b[0m\u001b[0;34m\u001b[0m\u001b[0;34m\u001b[0m\u001b[0m\n\u001b[1;32m     11\u001b[0m \u001b[0;34m\u001b[0m\u001b[0m\n",
            "\u001b[0;31mValueError\u001b[0m: could not convert string to float: 'China'"
          ]
        }
      ]
    }
  ]
}